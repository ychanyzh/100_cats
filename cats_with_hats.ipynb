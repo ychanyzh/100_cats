{
 "cells": [
  {
   "cell_type": "markdown",
   "metadata": {},
   "source": [
    "One day you decide to arrange all your cats in a giant circle. Initially, none of your cats have any hats on. You walk around the circle 100 times, always starting at the same spot, with the first cat (cat # 1). Every time you stop at a cat, you either put a hat on it if it doesn’t have one on, or you take its hat off if it has one on.\n",
    "1. In The first round, you stop at every cat, placing a hat on each one.\n",
    "2. In The second round, you only stop at every second cat (#2, #4, #6, #8, etc.).\n",
    "3. In The third round, you only stop at every third cat(#3, #6, #9, #12, etc.).\n",
    "4. You continue this process until you’ve made 100 rounds around the cats (e.g., you only visit the 100th cat).\n",
    "Write a program that simply outputs which cats have hats at the end.\n",
    "Make a function that can calculate hats with any amount of rounds and cats.\n",
    "Don't forget to calculate the complexity of your algorithm."
   ]
  },
  {
   "cell_type": "code",
   "execution_count": 7,
   "metadata": {},
   "outputs": [
    {
     "name": "stdout",
     "output_type": "stream",
     "text": [
      "Cats with hats: [1, 4, 9, 16, 25, 36, 49, 64, 81, 100]\n"
     ]
    }
   ],
   "source": [
    "def cats_with_hats(total_cats, total_rounds):\n",
    "    hats = [0] * total_cats\n",
    "\n",
    "    for round_number in range(1, total_rounds + 1):\n",
    "        for cat in range(round_number, total_cats + 1, round_number):\n",
    "            hats[cat - 1] = (hats[cat - 1] + 1) % 2\n",
    "\n",
    "    # Return the list of cats with hats\n",
    "    cats_with_hats_indices = [index + 1 for index, hat_status in enumerate(hats) if hat_status == 1]\n",
    "    return cats_with_hats_indices\n",
    "\n",
    "# Test the function with 100 cats and 100 rounds\n",
    "total_cats = 100\n",
    "total_rounds = 100\n",
    "result = cats_with_hats(total_cats, total_rounds)\n",
    "print(\"Cats with hats:\", result)\n",
    "\n",
    "# The complexity of this algorithm is O(n^2)\n"
   ]
  }
 ],
 "metadata": {
  "kernelspec": {
   "display_name": "base",
   "language": "python",
   "name": "python3"
  },
  "language_info": {
   "codemirror_mode": {
    "name": "ipython",
    "version": 3
   },
   "file_extension": ".py",
   "mimetype": "text/x-python",
   "name": "python",
   "nbconvert_exporter": "python",
   "pygments_lexer": "ipython3",
   "version": "3.10.9"
  },
  "orig_nbformat": 4
 },
 "nbformat": 4,
 "nbformat_minor": 2
}
